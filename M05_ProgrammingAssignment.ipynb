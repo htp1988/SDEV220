{
 "cells": [
  {
   "cell_type": "code",
   "execution_count": 1,
   "id": "0c7a8a52",
   "metadata": {},
   "outputs": [],
   "source": [
    "assert sum([1,2,3]) == 6, \"Should be 6\""
   ]
  },
  {
   "cell_type": "code",
   "execution_count": 2,
   "id": "9a4aae4b",
   "metadata": {},
   "outputs": [
    {
     "ename": "AssertionError",
     "evalue": "Should be 6",
     "output_type": "error",
     "traceback": [
      "\u001b[1;31m---------------------------------------------------------------------------\u001b[0m",
      "\u001b[1;31mAssertionError\u001b[0m                            Traceback (most recent call last)",
      "Input \u001b[1;32mIn [2]\u001b[0m, in \u001b[0;36m<cell line: 1>\u001b[1;34m()\u001b[0m\n\u001b[1;32m----> 1\u001b[0m \u001b[38;5;28;01massert\u001b[39;00m \u001b[38;5;28msum\u001b[39m([\u001b[38;5;241m1\u001b[39m,\u001b[38;5;241m1\u001b[39m,\u001b[38;5;241m1\u001b[39m]) \u001b[38;5;241m==\u001b[39m \u001b[38;5;241m6\u001b[39m, \u001b[38;5;124m\"\u001b[39m\u001b[38;5;124mShould be 6\u001b[39m\u001b[38;5;124m\"\u001b[39m\n",
      "\u001b[1;31mAssertionError\u001b[0m: Should be 6"
     ]
    }
   ],
   "source": [
    "assert sum([1,1,1]) == 6, \"Should be 6\""
   ]
  },
  {
   "cell_type": "code",
   "execution_count": 3,
   "id": "4b5bd30c",
   "metadata": {},
   "outputs": [
    {
     "name": "stdout",
     "output_type": "stream",
     "text": [
      "Everything passed\n"
     ]
    }
   ],
   "source": [
    "'''\n",
    "test_sum.py\n",
    "\n",
    "def test_sum():\n",
    "    assert sum([1, 2, 3]) == 6, \"Should be 6\"\n",
    "\n",
    "\n",
    "if __name__ == \"__main__\":\n",
    "    test_sum()\n",
    "    print(\"Everything passed\")\n",
    "\n",
    "'''\n",
    "\n",
    "!python test_sum.py"
   ]
  },
  {
   "cell_type": "code",
   "execution_count": 4,
   "id": "733dc728",
   "metadata": {},
   "outputs": [
    {
     "name": "stderr",
     "output_type": "stream",
     "text": [
      "Traceback (most recent call last):\n",
      "  File \"C:\\Users\\phuc2\\Downloads\\Documents\\SDEV220\\M05_ProgrammingAssignment\\test_sum_2.py\", line 10, in <module>\n",
      "    test_sum_tuple()\n",
      "  File \"C:\\Users\\phuc2\\Downloads\\Documents\\SDEV220\\M05_ProgrammingAssignment\\test_sum_2.py\", line 5, in test_sum_tuple\n",
      "    assert sum((1, 2, 2)) == 6, \"Should be 6\"\n",
      "AssertionError: Should be 6\n"
     ]
    }
   ],
   "source": [
    "'''\n",
    "test_sum_2.py\n",
    "\n",
    "def test_sum():\n",
    "    assert sum([1, 2, 3]) == 6, \"Should be 6\"\n",
    "\n",
    "def test_sum_tuple():\n",
    "    assert sum((1, 2, 2)) == 6, \"Should be 6\"\n",
    "\n",
    "\n",
    "if __name__ == \"__main__\":\n",
    "    test_sum()\n",
    "    test_sum_tuple()\n",
    "    print(\"Everything passed\")\n",
    "\n",
    "'''\n",
    "\n",
    "!python test_sum_2.py"
   ]
  },
  {
   "cell_type": "code",
   "execution_count": 5,
   "id": "68f90967",
   "metadata": {},
   "outputs": [
    {
     "name": "stderr",
     "output_type": "stream",
     "text": [
      ".F\n",
      "======================================================================\n",
      "FAIL: test_sum_tuple (__main__.TestSum)\n",
      "----------------------------------------------------------------------\n",
      "Traceback (most recent call last):\n",
      "  File \"C:\\Users\\phuc2\\Downloads\\Documents\\SDEV220\\M05_ProgrammingAssignment\\test_sum_unittest.py\", line 8, in test_sum_tuple\n",
      "    self.assertEqual(sum((1, 2, 2)), 6, \"Should be 6\")\n",
      "AssertionError: 5 != 6 : Should be 6\n",
      "\n",
      "----------------------------------------------------------------------\n",
      "Ran 2 tests in 0.001s\n",
      "\n",
      "FAILED (failures=1)\n"
     ]
    }
   ],
   "source": [
    "'''\n",
    "test_sum_unittest.py\n",
    "\n",
    "import unittest\n",
    "\n",
    "class TestSum(unittest.TestCase):\n",
    "    def test_sum(self):\n",
    "        self.assertEqual(sum([1, 2, 3]), 6, \"Should be 6\")\n",
    "\n",
    "    def test_sum_tuple(self):\n",
    "        self.assertEqual(sum((1, 2, 2)), 6, \"Should be 6\")\n",
    "\n",
    "\n",
    "if __name__ == \"__main__\":\n",
    "    unittest.main()\n",
    "\n",
    "'''\n",
    "\n",
    "!python test_sum_unittest.py"
   ]
  },
  {
   "cell_type": "code",
   "execution_count": 6,
   "id": "1fa69efa",
   "metadata": {},
   "outputs": [
    {
     "name": "stderr",
     "output_type": "stream",
     "text": [
      "..F.F\n",
      "======================================================================\n",
      "FAIL: test_sum_2.test_sum_tuple\n",
      "----------------------------------------------------------------------\n",
      "Traceback (most recent call last):\n",
      "  File \"C:\\Users\\phuc2\\Downloads\\Documents\\SDEV220\\M05_ProgrammingAssignment\\test_sum_2.py\", line 5, in test_sum_tuple\n",
      "    assert sum((1, 2, 2)) == 6, \"Should be 6\"\n",
      "AssertionError: Should be 6\n",
      "\n",
      "======================================================================\n",
      "FAIL: test_sum_tuple (test_sum_unittest.TestSum)\n",
      "----------------------------------------------------------------------\n",
      "Traceback (most recent call last):\n",
      "  File \"C:\\Users\\phuc2\\Downloads\\Documents\\SDEV220\\M05_ProgrammingAssignment\\test_sum_unittest.py\", line 8, in test_sum_tuple\n",
      "    self.assertEqual(sum((1, 2, 2)), 6, \"Should be 6\")\n",
      "AssertionError: 5 != 6 : Should be 6\n",
      "\n",
      "----------------------------------------------------------------------\n",
      "Ran 5 tests in 0.000s\n",
      "\n",
      "FAILED (failures=2)\n"
     ]
    }
   ],
   "source": [
    "#  try to discover all test scripts named test*.py and test cases inheriting from unittest.TestCase in your current directory\n",
    "\n",
    "!python -m nose2 "
   ]
  },
  {
   "cell_type": "code",
   "execution_count": 7,
   "id": "f4029e01",
   "metadata": {},
   "outputs": [
    {
     "data": {
      "text/plain": [
       "'C:\\\\Users\\\\phuc2\\\\Downloads\\\\Documents\\\\SDEV220\\\\M05_ProgrammingAssignment'"
      ]
     },
     "execution_count": 7,
     "metadata": {},
     "output_type": "execute_result"
    }
   ],
   "source": [
    "%pwd"
   ]
  },
  {
   "cell_type": "code",
   "execution_count": 8,
   "id": "048c7318",
   "metadata": {},
   "outputs": [
    {
     "name": "stdout",
     "output_type": "stream",
     "text": [
      "C:\\Users\\phuc2\\Downloads\\Documents\\SDEV220\\M05_ProgrammingAssignment\\project\n"
     ]
    }
   ],
   "source": [
    "%cd project"
   ]
  },
  {
   "cell_type": "code",
   "execution_count": null,
   "id": "a20aba54",
   "metadata": {},
   "outputs": [],
   "source": [
    "'''\n",
    "test.py\n",
    "\n",
    "import unittest\n",
    "from my_sum import sum\n",
    "\n",
    "class TestSum(unittest.TestCase):\n",
    "    def test_list_int(self):\n",
    "        \"\"\"\n",
    "        Test that it can sum a list of integers\n",
    "        \"\"\"\n",
    "        data = [1, 2, 3]\n",
    "        result = sum(data)\n",
    "        self.assertEqual(result, 6)\n",
    "\n",
    "if __name__ == '__main__':\n",
    "    unittest.main()\n",
    "\n",
    "'''"
   ]
  },
  {
   "cell_type": "code",
   "execution_count": 28,
   "id": "1c2be1cb",
   "metadata": {},
   "outputs": [
    {
     "name": "stderr",
     "output_type": "stream",
     "text": [
      ".\n",
      "----------------------------------------------------------------------\n",
      "Ran 1 test in 0.000s\n",
      "\n",
      "OK\n"
     ]
    }
   ],
   "source": [
    "!python -m unittest test"
   ]
  },
  {
   "cell_type": "code",
   "execution_count": 12,
   "id": "660dc39a",
   "metadata": {},
   "outputs": [
    {
     "name": "stderr",
     "output_type": "stream",
     "text": [
      "test_list_int (test.TestSum)\n",
      "Test that it can sum a list of integers ... ok\n",
      "\n",
      "----------------------------------------------------------------------\n",
      "Ran 1 test in 0.000s\n",
      "\n",
      "OK\n"
     ]
    }
   ],
   "source": [
    "# provide additional options to change the output. One of those is -v for verbose\n",
    "\n",
    "!python -m unittest -v test"
   ]
  },
  {
   "cell_type": "code",
   "execution_count": 13,
   "id": "d1427ff9",
   "metadata": {},
   "outputs": [
    {
     "name": "stderr",
     "output_type": "stream",
     "text": [
      ".\n",
      "----------------------------------------------------------------------\n",
      "Ran 1 test in 0.000s\n",
      "\n",
      "OK\n"
     ]
    }
   ],
   "source": [
    "# Instead of providing the name of a module containing tests, you can request an auto-discovery using the following:\n",
    "\n",
    "!python -m unittest discover"
   ]
  },
  {
   "cell_type": "code",
   "execution_count": 24,
   "id": "10b207cb",
   "metadata": {},
   "outputs": [
    {
     "name": "stderr",
     "output_type": "stream",
     "text": [
      ".\n",
      "----------------------------------------------------------------------\n",
      "Ran 1 test in 0.000s\n",
      "\n",
      "OK\n"
     ]
    }
   ],
   "source": [
    "# test multiple test files, as long as you follow the test*.py naming pattern\n",
    "\n",
    "!python -m unittest discover -s C:\\Users\\phuc2\\Downloads\\Documents\\SDEV220\\M05_ProgrammingAssignment\\project"
   ]
  },
  {
   "cell_type": "code",
   "execution_count": 29,
   "id": "28c55179",
   "metadata": {},
   "outputs": [
    {
     "name": "stderr",
     "output_type": "stream",
     "text": [
      ".\n",
      "----------------------------------------------------------------------\n",
      "Ran 1 test in 0.000s\n",
      "\n",
      "OK\n"
     ]
    }
   ],
   "source": [
    "# -t flag tell unittest where to execute the tests to source code \n",
    "\n",
    "!python -m unittest discover -s C:\\Users\\phuc2\\Downloads\\Documents\\SDEV220\\M05_ProgrammingAssignment\\project -t C:\\Users\\phuc2\\Downloads\\Documents\\SDEV220\\M05_ProgrammingAssignment\\project"
   ]
  },
  {
   "cell_type": "code",
   "execution_count": null,
   "id": "5b15b881",
   "metadata": {},
   "outputs": [],
   "source": [
    "# Test result is OK, no failures. It means sum of elements in data list equal 6."
   ]
  }
 ],
 "metadata": {
  "kernelspec": {
   "display_name": "Python 3 (ipykernel)",
   "language": "python",
   "name": "python3"
  },
  "language_info": {
   "codemirror_mode": {
    "name": "ipython",
    "version": 3
   },
   "file_extension": ".py",
   "mimetype": "text/x-python",
   "name": "python",
   "nbconvert_exporter": "python",
   "pygments_lexer": "ipython3",
   "version": "3.9.12"
  }
 },
 "nbformat": 4,
 "nbformat_minor": 5
}
