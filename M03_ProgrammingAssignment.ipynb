{
 "cells": [
  {
   "cell_type": "code",
   "execution_count": 4,
   "id": "746884fb",
   "metadata": {
    "scrolled": true
   },
   "outputs": [],
   "source": [
    "# 7.4\n",
    "things = [\"mozzarella\", \"cinderella\", \"salmonella\"]"
   ]
  },
  {
   "cell_type": "code",
   "execution_count": 11,
   "id": "582a7efd",
   "metadata": {},
   "outputs": [
    {
     "name": "stdout",
     "output_type": "stream",
     "text": [
      "mozzarella\n",
      "Cinderella\n",
      "salmonella\n"
     ]
    },
    {
     "data": {
      "text/plain": [
       "['mozzarella', 'cinderella', 'salmonella']"
      ]
     },
     "execution_count": 11,
     "metadata": {},
     "output_type": "execute_result"
    }
   ],
   "source": [
    "# 7.5\n",
    "for i in things:\n",
    "    if i == \"cinderella\":\n",
    "        print(i.capitalize())\n",
    "    else:\n",
    "        print(i)\n",
    "things"
   ]
  },
  {
   "cell_type": "code",
   "execution_count": 6,
   "id": "3ee98e6b",
   "metadata": {},
   "outputs": [],
   "source": [
    "# It did not change the element in the list"
   ]
  },
  {
   "cell_type": "code",
   "execution_count": 12,
   "id": "187d36b5",
   "metadata": {},
   "outputs": [
    {
     "name": "stdout",
     "output_type": "stream",
     "text": [
      "MOZZARELLA\n",
      "cinderella\n",
      "salmonella\n"
     ]
    },
    {
     "data": {
      "text/plain": [
       "['mozzarella', 'cinderella', 'salmonella']"
      ]
     },
     "execution_count": 12,
     "metadata": {},
     "output_type": "execute_result"
    }
   ],
   "source": [
    "# 7.6\n",
    "for i in things:\n",
    "    if i == \"mozzarella\":\n",
    "        print(i.upper())\n",
    "    else:\n",
    "        print(i)\n",
    "things"
   ]
  },
  {
   "cell_type": "code",
   "execution_count": 13,
   "id": "d4736845",
   "metadata": {},
   "outputs": [
    {
     "data": {
      "text/plain": [
       "['mozzarella', 'cinderella', 'chemistry']"
      ]
     },
     "execution_count": 13,
     "metadata": {},
     "output_type": "execute_result"
    }
   ],
   "source": [
    "# 7.7\n",
    "things.remove(\"salmonella\")\n",
    "things.append(\"chemistry\")\n",
    "things"
   ]
  },
  {
   "cell_type": "code",
   "execution_count": 14,
   "id": "7de227d9",
   "metadata": {},
   "outputs": [
    {
     "data": {
      "text/plain": [
       "['Harry', 'Ron', 'Hermione']"
      ]
     },
     "execution_count": 14,
     "metadata": {},
     "output_type": "execute_result"
    }
   ],
   "source": [
    "# 9.1\n",
    "def good():\n",
    "    return [\"Harry\", \"Ron\", \"Hermione\"]\n",
    "good()"
   ]
  },
  {
   "cell_type": "code",
   "execution_count": 35,
   "id": "2ea6c6a1",
   "metadata": {},
   "outputs": [],
   "source": [
    "# 9.2\n",
    "def get_odds():\n",
    "    ans = []\n",
    "    for i in range(10):\n",
    "        if i % 2 == 1:\n",
    "            ans.append(i)\n",
    "    return ans[2]\n"
   ]
  },
  {
   "cell_type": "code",
   "execution_count": 36,
   "id": "a349332f",
   "metadata": {},
   "outputs": [
    {
     "data": {
      "text/plain": [
       "5"
      ]
     },
     "execution_count": 36,
     "metadata": {},
     "output_type": "execute_result"
    }
   ],
   "source": [
    "get_odds()"
   ]
  }
 ],
 "metadata": {
  "kernelspec": {
   "display_name": "Python 3 (ipykernel)",
   "language": "python",
   "name": "python3"
  },
  "language_info": {
   "codemirror_mode": {
    "name": "ipython",
    "version": 3
   },
   "file_extension": ".py",
   "mimetype": "text/x-python",
   "name": "python",
   "nbconvert_exporter": "python",
   "pygments_lexer": "ipython3",
   "version": "3.9.12"
  }
 },
 "nbformat": 4,
 "nbformat_minor": 5
}
