{
 "cells": [
  {
   "cell_type": "code",
   "execution_count": 1,
   "id": "7a299395",
   "metadata": {},
   "outputs": [
    {
     "data": {
      "text/plain": [
       "'Open 9-5 daily'"
      ]
     },
     "execution_count": 1,
     "metadata": {},
     "output_type": "execute_result"
    }
   ],
   "source": [
    "# 11.1\n",
    "\n",
    "\"\"\"\n",
    "zoo module description:\n",
    "\n",
    "def hours():\n",
    "    return \"Open 9-5 daily\"\n",
    "\"\"\"\n",
    "\n",
    "import zoo\n",
    "\n",
    "zoo.hours()"
   ]
  },
  {
   "cell_type": "code",
   "execution_count": 2,
   "id": "dfef5328",
   "metadata": {},
   "outputs": [
    {
     "data": {
      "text/plain": [
       "'Open 9-5 daily'"
      ]
     },
     "execution_count": 2,
     "metadata": {},
     "output_type": "execute_result"
    }
   ],
   "source": [
    "# 11.2\n",
    "\n",
    "import zoo as menagerie\n",
    "\n",
    "menagerie.hours()"
   ]
  },
  {
   "cell_type": "code",
   "execution_count": 32,
   "id": "e1831bda",
   "metadata": {
    "scrolled": true
   },
   "outputs": [
    {
     "name": "stdout",
     "output_type": "stream",
     "text": [
      "Black Beauty\n",
      "Heidi\n",
      "Lolita\n",
      "The Hobbit\n"
     ]
    }
   ],
   "source": [
    "# 16.8\n",
    "\n",
    "import sqlalchemy as sa\n",
    "\n",
    "conn = sa.create_engine(\"sqlite:///books.db\")\n",
    "\n",
    "meta = sa.MetaData()\n",
    "books = sa.Table(\"book\", meta,\n",
    "                sa.Column(\"title\", sa.String(100), primary_key=True),\n",
    "                sa.Column(\"author\", sa.String(50)),\n",
    "                sa.Column(\"year\", sa.Integer)\n",
    "                )\n",
    "\n",
    "meta.create_all(conn)\n",
    "\n",
    "conn.execute(books.insert((\"The Hobbit\", \"Tolkien\", 1937)))\n",
    "conn.execute(books.insert((\"Lolita\", \"Vladimir Nabokov\", 1955)))\n",
    "conn.execute(books.insert((\"Heidi\", \"Johanna Spyri\", 1880)))\n",
    "conn.execute(books.insert((\"Black Beauty\", \"Anna Sewell\", 1877)))\n",
    " \n",
    "result = conn.execute(\"select title from book\")\n",
    "title_column = result.fetchall()\n",
    "for title in title_column:\n",
    "    print(title[0])"
   ]
  }
 ],
 "metadata": {
  "kernelspec": {
   "display_name": "Python 3 (ipykernel)",
   "language": "python",
   "name": "python3"
  },
  "language_info": {
   "codemirror_mode": {
    "name": "ipython",
    "version": 3
   },
   "file_extension": ".py",
   "mimetype": "text/x-python",
   "name": "python",
   "nbconvert_exporter": "python",
   "pygments_lexer": "ipython3",
   "version": "3.9.12"
  }
 },
 "nbformat": 4,
 "nbformat_minor": 5
}
