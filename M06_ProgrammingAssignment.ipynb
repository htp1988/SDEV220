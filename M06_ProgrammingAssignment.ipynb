{
 "cells": [
  {
   "cell_type": "code",
   "execution_count": 42,
   "id": "a533f2b7",
   "metadata": {},
   "outputs": [],
   "source": [
    "# 13.1\n",
    "import datetime as dt\n",
    "import time\n",
    "\n",
    "current = dt.datetime.now()\n",
    "\n",
    "today_file = open(\"today.txt\", \"a\")\n",
    "today_file.write(current.strftime(\"%A, %d %b %y\"))\n",
    "today_file.write(\"\\n\")\n",
    "today_file.close()"
   ]
  },
  {
   "cell_type": "code",
   "execution_count": 50,
   "id": "8e46575f",
   "metadata": {},
   "outputs": [
    {
     "data": {
      "text/plain": [
       "'Monday, 18 Jul 22'"
      ]
     },
     "execution_count": 50,
     "metadata": {},
     "output_type": "execute_result"
    }
   ],
   "source": [
    "# 13.2 \n",
    "with open(\"today.txt\") as t:\n",
    "    today = t.readline()  \n",
    "t.close()\n",
    "today_string = today.split(\"\\n\")[0]\n",
    "today_string"
   ]
  },
  {
   "cell_type": "code",
   "execution_count": 51,
   "id": "247cd052",
   "metadata": {},
   "outputs": [
    {
     "name": "stdout",
     "output_type": "stream",
     "text": [
      "2022-07-18\n"
     ]
    }
   ],
   "source": [
    "# 13.3\n",
    "parse_date = dt.datetime.strptime(today_string, \"%A, %d %b %y\")\n",
    "print(parse_date.date())"
   ]
  },
  {
   "cell_type": "code",
   "execution_count": 68,
   "id": "8ee52910",
   "metadata": {},
   "outputs": [
    {
     "name": "stdout",
     "output_type": "stream",
     "text": [
      "0.13932132720947266\n",
      "2022-07-18 20:51:12.595442\n"
     ]
    }
   ],
   "source": [
    "# 15.1\n",
    "import multiprocessing\n",
    "import random\n",
    "\n",
    "start_time = time.time()\n",
    "\n",
    "p1 = random.randint(0,1)\n",
    "p2 = random.randint(0,1)\n",
    "p3 = random.randint(0,1)\n",
    "\n",
    "process1 = multiprocessing.Process(target=p1)\n",
    "process2 = multiprocessing.Process(target=p2)\n",
    "process3 = multiprocessing.Process(target=p3)\n",
    "\n",
    "process1.start()\n",
    "process2.start()\n",
    "process3.start()\n",
    "\n",
    "process1.join()\n",
    "process2.join()\n",
    "process3.join()\n",
    "\n",
    "end_time = time.time()\n",
    "\n",
    "print(end_time - start_time)\n",
    "print(dt.datetime.now())"
   ]
  }
 ],
 "metadata": {
  "kernelspec": {
   "display_name": "Python 3 (ipykernel)",
   "language": "python",
   "name": "python3"
  },
  "language_info": {
   "codemirror_mode": {
    "name": "ipython",
    "version": 3
   },
   "file_extension": ".py",
   "mimetype": "text/x-python",
   "name": "python",
   "nbconvert_exporter": "python",
   "pygments_lexer": "ipython3",
   "version": "3.9.12"
  }
 },
 "nbformat": 4,
 "nbformat_minor": 5
}
